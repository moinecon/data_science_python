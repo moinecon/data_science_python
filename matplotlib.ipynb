{
 "cells": [
  {
   "cell_type": "markdown",
   "id": "f876f522-d937-4ed7-9512-1621ca85b200",
   "metadata": {},
   "source": [
    "# Matplotlib"
   ]
  },
  {
   "cell_type": "markdown",
   "id": "300a0c56-ba02-40d8-942a-343341665167",
   "metadata": {},
   "source": [
    "## Matplotlib basics\n",
    "Before we dive into the details of creating visualizations with Matplotlib, there are a few useful things you should know about using the package. The `plt` interface is what we will use most often."
   ]
  },
  {
   "cell_type": "code",
   "execution_count": 1,
   "id": "d8c957a5-3e39-4b49-89eb-96d785c34ecf",
   "metadata": {
    "tags": []
   },
   "outputs": [],
   "source": [
    "# import matplotlib\n",
    "import matplotlib as mpl\n",
    "# import matplotlib.pyplot\n",
    "import matplotlib.pyplot as plt"
   ]
  },
  {
   "cell_type": "code",
   "execution_count": null,
   "id": "81a5543f-2bd9-431a-a55a-9cea167e767f",
   "metadata": {},
   "outputs": [],
   "source": []
  }
 ],
 "metadata": {
  "kernelspec": {
   "display_name": "Python 3 (ipykernel)",
   "language": "python",
   "name": "python3"
  },
  "language_info": {
   "codemirror_mode": {
    "name": "ipython",
    "version": 3
   },
   "file_extension": ".py",
   "mimetype": "text/x-python",
   "name": "python",
   "nbconvert_exporter": "python",
   "pygments_lexer": "ipython3",
   "version": "3.11.7"
  }
 },
 "nbformat": 4,
 "nbformat_minor": 5
}
