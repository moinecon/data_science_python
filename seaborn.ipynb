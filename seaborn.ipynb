{
 "cells": [
  {
   "cell_type": "markdown",
   "id": "1df4ae4e-7f29-440b-add1-60e8eeb1ae8a",
   "metadata": {},
   "source": [
    "# Seaborn"
   ]
  },
  {
   "cell_type": "markdown",
   "id": "8fe90c67-8099-4e9a-baea-ec0546ae655d",
   "metadata": {},
   "source": [
    "Seaborn is a library for making statistical graphics in Python. Seaborn helps you explore and understand your data. It's plotting functions operate on dataframes and arrays containing whole datasets and internally perform the necessary semantic mapping and statistical aggregation to produce informative plots. "
   ]
  },
  {
   "cell_type": "code",
   "execution_count": 2,
   "id": "2075d5b5-b906-48d9-8f9a-47ecb001c74f",
   "metadata": {
    "tags": []
   },
   "outputs": [],
   "source": [
    "# import seaborn\n",
    "import seaborn as sns\n",
    "# apply the default theme\n",
    "sns.set_theme()"
   ]
  },
  {
   "cell_type": "code",
   "execution_count": null,
   "id": "7f933e39-32e5-4bc6-be3a-86ad9ad92c98",
   "metadata": {},
   "outputs": [],
   "source": []
  }
 ],
 "metadata": {
  "kernelspec": {
   "display_name": "Python 3 (ipykernel)",
   "language": "python",
   "name": "python3"
  },
  "language_info": {
   "codemirror_mode": {
    "name": "ipython",
    "version": 3
   },
   "file_extension": ".py",
   "mimetype": "text/x-python",
   "name": "python",
   "nbconvert_exporter": "python",
   "pygments_lexer": "ipython3",
   "version": "3.11.5"
  }
 },
 "nbformat": 4,
 "nbformat_minor": 5
}
