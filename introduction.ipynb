{
 "cells": [
  {
   "cell_type": "markdown",
   "id": "d517bdee-8890-4f72-b17c-d9101965dc79",
   "metadata": {},
   "source": [
    "# Introduction"
   ]
  },
  {
   "cell_type": "markdown",
   "id": "516a00d1-b1d4-4630-b74a-8e7dc2288dc3",
   "metadata": {},
   "source": [
    "### Numpy\n",
    "- The Python community has adopted naming conventions for commonly used modules"
   ]
  },
  {
   "cell_type": "code",
   "execution_count": 7,
   "id": "2a50747b-3793-459d-9b28-b373944327be",
   "metadata": {},
   "outputs": [],
   "source": [
    "import numpy as np"
   ]
  },
  {
   "cell_type": "code",
   "execution_count": 8,
   "id": "6b855e9c-0073-490b-bfe8-7e1da40b6f07",
   "metadata": {},
   "outputs": [],
   "source": [
    "my_list1=[1,2,3,4]\n",
    "my_list2=[11,22,33,44]\n",
    "my_lists=[my_list1,my_list2]"
   ]
  },
  {
   "cell_type": "code",
   "execution_count": 9,
   "id": "33d1f894-4c97-453f-b3e2-76955213c596",
   "metadata": {
    "tags": []
   },
   "outputs": [
    {
     "data": {
      "text/plain": [
       "array([1, 2, 3, 4])"
      ]
     },
     "execution_count": 9,
     "metadata": {},
     "output_type": "execute_result"
    }
   ],
   "source": [
    "my_array1=np.array(my_list1)\n",
    "my_array1"
   ]
  },
  {
   "cell_type": "code",
   "execution_count": 10,
   "id": "cd6291f3-9d0d-4966-a95d-8db92aab935a",
   "metadata": {
    "tags": []
   },
   "outputs": [
    {
     "data": {
      "text/plain": [
       "array([[ 1,  2,  3,  4],\n",
       "       [11, 22, 33, 44]])"
      ]
     },
     "execution_count": 10,
     "metadata": {},
     "output_type": "execute_result"
    }
   ],
   "source": [
    "my_array2=np.array(my_lists)\n",
    "my_array2"
   ]
  },
  {
   "cell_type": "code",
   "execution_count": null,
   "id": "93cdb9e1-420c-4614-a880-2586cf22ae77",
   "metadata": {},
   "outputs": [],
   "source": []
  }
 ],
 "metadata": {
  "kernelspec": {
   "display_name": "Python 3 (ipykernel)",
   "language": "python",
   "name": "python3"
  },
  "language_info": {
   "codemirror_mode": {
    "name": "ipython",
    "version": 3
   },
   "file_extension": ".py",
   "mimetype": "text/x-python",
   "name": "python",
   "nbconvert_exporter": "python",
   "pygments_lexer": "ipython3",
   "version": "3.11.5"
  }
 },
 "nbformat": 4,
 "nbformat_minor": 5
}
