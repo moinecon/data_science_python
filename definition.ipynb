{
 "cells": [
  {
   "cell_type": "markdown",
   "id": "e0758bb3-12f9-42f0-a7f6-fdf19e1fab5f",
   "metadata": {},
   "source": [
    "# Definition"
   ]
  },
  {
   "cell_type": "markdown",
   "id": "3e38ddb1-a4b5-4879-84bc-1802f09c7a4f",
   "metadata": {},
   "source": [
    "## Classification of Machine Learning\n",
    "\n",
    "### A. Supervised learning:\n",
    "Supervised learning is the machine learning task of learning a function that maps an input to an output based on example input-output pairs. The given data is labeled. Both classification and regression problems are supervised learning problems.\n",
    "\n",
    "### B. Unsupervised learning:\n",
    "Unsupervised learning is a type of machine learning algorithm used to draw inferences from datasets consisting of input data without labeled responses. In unsupervised learning algorithms, classification or categorization is not included in the observations.\n",
    "\n",
    "### C. Reinforcement learning:\n",
    "Reinforcement learning is the problem of getting an agent to act in the world so as to maximize its rewards.\n",
    "\n",
    "### D. Semi-supervised learning:\n",
    "Where an incomplete training signal is given: a training set with some (often many) of the target outputs missing. There is a special case of this principle known as Transduction where the entire set of problem instances is known at learning time, except that part of the targets are missing. Semi-supervised learning is an approach to machine learning that combines small labeled data with a large amount of unlabeled data during training. Semi-supervised learning falls between unsupervised learning and supervised learning. "
   ]
  },
  {
   "cell_type": "code",
   "execution_count": null,
   "id": "4d683afd-6768-480d-a24c-1683d76ecc6b",
   "metadata": {},
   "outputs": [],
   "source": []
  }
 ],
 "metadata": {
  "kernelspec": {
   "display_name": "Python 3 (ipykernel)",
   "language": "python",
   "name": "python3"
  },
  "language_info": {
   "codemirror_mode": {
    "name": "ipython",
    "version": 3
   },
   "file_extension": ".py",
   "mimetype": "text/x-python",
   "name": "python",
   "nbconvert_exporter": "python",
   "pygments_lexer": "ipython3",
   "version": "3.11.5"
  }
 },
 "nbformat": 4,
 "nbformat_minor": 5
}
