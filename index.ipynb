{
 "cells": [
  {
   "cell_type": "markdown",
   "id": "8a56d5f2-b99f-475e-827c-d5dc16b4ded9",
   "metadata": {},
   "source": [
    "# Python and R\n",
    "Explore the basics of these two open-source programming languages, the key differences that set them apart and how to choose the right one. In many ways, the two open source languages are very similar. Free to download for everyone, both languages are well suited for data science tasks. The main difference is that Python is a general-purpose programming language, while R has its roots in statistical analysis."
   ]
  },
  {
   "cell_type": "markdown",
   "id": "97dad4c7-6c81-475a-bfee-e500c1a5eca8",
   "metadata": {},
   "source": [
    "## What is Python?\n",
    "Python is a general-purpose, object-oriented programming language that emphasizes code readability through its generous use of white space. Released in 1989, Python is easy to learn and a favorite of programmers and developers. In fact, Python is one of the most popular programming languages in the world, just behind Java and C.\n",
    "\n",
    "Several Python libraries support data science tasks, including the following:\n",
    "\n",
    "- Numpy for handling large dimensional arrays\n",
    "- Pandas for data manipulation and analysis\n",
    "- Matplotlib for building data visualizations\n",
    "\n",
    "Jupyter Notebooks are an open source web application for easily sharing documents that contain your live Python code, equations, visualizations and data science explanations."
   ]
  },
  {
   "cell_type": "markdown",
   "id": "06233447-c8df-4678-b4bc-b424b65e13c0",
   "metadata": {},
   "source": [
    "## What is R?\n",
    "R is an open source programming language that’s optimized for statistical analysis and data visualization. Developed in 1992, R has a rich ecosystem with complex data models and elegant tools for data reporting. At last count, more than 13,000 R packages were available via the Comprehensive R Archive Network (CRAN) for deep analytics.\n",
    "\n",
    "Popular among data science scholars and researchers, R provides a broad variety of libraries and tools:\n",
    "\n",
    "- Tidyverse\n",
    "- sf\n",
    "\n",
    "R is commonly used within RStudio, an integrated development environment (IDE) for simplified statistical analysis, visualization and reporting. R applications can be used directly and interactively on the web via Shiny."
   ]
  },
  {
   "cell_type": "markdown",
   "id": "9e466ba5-7f81-4583-843a-6acc3ea8ef6e",
   "metadata": {},
   "source": [
    "## Data Science\n",
    "- Numpy\n",
    "- Pandas\n",
    "- Matplotlib\n",
    "- Sklearn"
   ]
  },
  {
   "cell_type": "markdown",
   "id": "52a95395-4ed2-45b5-80fb-9ae51ee0b01c",
   "metadata": {},
   "source": [
    "- Big data is a blanket term for any collection of data sets so large or complex that it becomes difficult to process them using traditional data management techniques."
   ]
  },
  {
   "cell_type": "code",
   "execution_count": null,
   "id": "eb474426-738e-46c6-9873-bedf87924786",
   "metadata": {},
   "outputs": [],
   "source": []
  }
 ],
 "metadata": {
  "kernelspec": {
   "display_name": "Python 3 (ipykernel)",
   "language": "python",
   "name": "python3"
  },
  "language_info": {
   "codemirror_mode": {
    "name": "ipython",
    "version": 3
   },
   "file_extension": ".py",
   "mimetype": "text/x-python",
   "name": "python",
   "nbconvert_exporter": "python",
   "pygments_lexer": "ipython3",
   "version": "3.11.5"
  }
 },
 "nbformat": 4,
 "nbformat_minor": 5
}
