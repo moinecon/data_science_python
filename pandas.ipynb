{
 "cells": [
  {
   "cell_type": "markdown",
   "id": "90bb2d47-2d9b-4a21-935c-3c5fc44a13ea",
   "metadata": {},
   "source": [
    "# Pandas"
   ]
  },
  {
   "cell_type": "markdown",
   "id": "2b6f9825-a9bb-4b91-9518-d1b1f39883f7",
   "metadata": {},
   "source": [
    "## Pandas basics\n",
    "Pandas is a Python library used for working with data sets. It has functions for analyzing, cleaning, exploring, and manipulating data. The name \"Pandas\" has a reference to both \"Panel Data\", and \"Python Data Analysis\" and was created by Wes McKinney in 2008.\n",
    "\n",
    "Pandas allows us to analyze big data and make conclusions based on statistical theories. Pandas can clean messy data sets, and make them readable and relevant. Relevant data is very important in data science."
   ]
  },
  {
   "cell_type": "markdown",
   "id": "fa12421c-55ac-4b3c-bcbd-1d5f668338bc",
   "metadata": {},
   "source": [
    "Create an alias with the `as` keyword while importing:"
   ]
  },
  {
   "cell_type": "code",
   "execution_count": 1,
   "id": "7fb74419-19f5-4018-bcb3-93e2b4487d95",
   "metadata": {
    "tags": []
   },
   "outputs": [],
   "source": [
    "# import pandas\n",
    "import pandas as pd\n",
    "# import numpy\n",
    "import numpy as np"
   ]
  },
  {
   "cell_type": "markdown",
   "id": "d77da3f4-989d-4d85-a3d4-42d8ba24fa48",
   "metadata": {},
   "source": [
    "Now the Pandas package can be referred to as `pd` instead of `pandas`."
   ]
  },
  {
   "cell_type": "markdown",
   "id": "a7d6fe10-d91a-40ba-9e5b-616698e319ec",
   "metadata": {},
   "source": [
    "## Series"
   ]
  },
  {
   "cell_type": "code",
   "execution_count": 2,
   "id": "4547969f-4d4f-424b-966f-8599181f817e",
   "metadata": {
    "tags": []
   },
   "outputs": [],
   "source": [
    "name = ['Andy', 'Ron', 'James', 'Edy']\n",
    "myseries1 = pd.Series(name)"
   ]
  },
  {
   "cell_type": "code",
   "execution_count": 3,
   "id": "0656e55a-06a7-417e-8214-6c608c0de7ce",
   "metadata": {
    "tags": []
   },
   "outputs": [
    {
     "name": "stdout",
     "output_type": "stream",
     "text": [
      "0     Andy\n",
      "1      Ron\n",
      "2    James\n",
      "3      Edy\n",
      "dtype: object\n"
     ]
    }
   ],
   "source": [
    "print(myseries1)"
   ]
  },
  {
   "cell_type": "code",
   "execution_count": 4,
   "id": "41bdd2d7-6f65-4768-8b81-bcb12c079e1e",
   "metadata": {
    "tags": []
   },
   "outputs": [],
   "source": [
    "age = [21, 35, 54, 33]\n",
    "myseries2 = pd.Series(age)"
   ]
  },
  {
   "cell_type": "code",
   "execution_count": 5,
   "id": "7a876946-cc65-42b0-a681-a880fce9ffd0",
   "metadata": {
    "tags": []
   },
   "outputs": [
    {
     "name": "stdout",
     "output_type": "stream",
     "text": [
      "0    21\n",
      "1    35\n",
      "2    54\n",
      "3    33\n",
      "dtype: int64\n"
     ]
    }
   ],
   "source": [
    "print(myseries2)"
   ]
  },
  {
   "cell_type": "markdown",
   "id": "b38efa69-2f43-45c8-b031-872f225143d9",
   "metadata": {},
   "source": [
    "### DataFrame\n",
    "A Pandas DataFrame is a 2 dimensional data structure, like a 2 dimensional array, or a table with rows and columns."
   ]
  },
  {
   "cell_type": "markdown",
   "id": "cf076dbe-f735-4e0f-b7c4-866d44847127",
   "metadata": {},
   "source": [
    "Create simple DataFrame"
   ]
  },
  {
   "cell_type": "code",
   "execution_count": 7,
   "id": "28a8a302-0699-4a4e-9b82-5355b10911b2",
   "metadata": {
    "tags": []
   },
   "outputs": [
    {
     "name": "stdout",
     "output_type": "stream",
     "text": [
      "   calories  duration\n",
      "0       420        50\n",
      "1       380        40\n",
      "2       390        45\n"
     ]
    }
   ],
   "source": [
    "import pandas as pd\n",
    "\n",
    "data = {\n",
    "  \"calories\": [420, 380, 390],\n",
    "  \"duration\": [50, 40, 45]\n",
    "}\n",
    "\n",
    "#load data into a DataFrame object:\n",
    "df = pd.DataFrame(data)\n",
    "\n",
    "print(df) "
   ]
  },
  {
   "cell_type": "markdown",
   "id": "2d5ffa13-34c2-4466-a6c7-b4ed34912195",
   "metadata": {},
   "source": [
    "**Locate Row**: As you can see from the result above, the DataFrame is like a table with rows and columns.\n",
    "Pandas use the `loc` attribute to return one or more specified row(s)"
   ]
  },
  {
   "cell_type": "code",
   "execution_count": 8,
   "id": "e106ae90-6741-48fc-a320-b030c10bec1c",
   "metadata": {
    "tags": []
   },
   "outputs": [
    {
     "name": "stdout",
     "output_type": "stream",
     "text": [
      "calories    420\n",
      "duration     50\n",
      "Name: 0, dtype: int64\n"
     ]
    }
   ],
   "source": [
    "#refer to the row index:\n",
    "print(df.loc[0])"
   ]
  },
  {
   "cell_type": "code",
   "execution_count": 9,
   "id": "5f0bfce1-b308-4c37-bea0-dfe617e9081f",
   "metadata": {
    "tags": []
   },
   "outputs": [
    {
     "name": "stdout",
     "output_type": "stream",
     "text": [
      "   calories  duration\n",
      "0       420        50\n",
      "1       380        40\n"
     ]
    }
   ],
   "source": [
    "#use a list of indexes:\n",
    "print(df.loc[[0, 1]])"
   ]
  },
  {
   "cell_type": "markdown",
   "id": "14ef8ee0-51f4-46f0-8fbd-420770681c14",
   "metadata": {},
   "source": [
    "**Named Indexes**: With the index argument, you can name your own indexes."
   ]
  },
  {
   "cell_type": "code",
   "execution_count": 10,
   "id": "b77ccc44-0e97-4000-9d1f-fea037d78c0f",
   "metadata": {
    "tags": []
   },
   "outputs": [
    {
     "name": "stdout",
     "output_type": "stream",
     "text": [
      "      calories  duration\n",
      "day1       420        50\n",
      "day2       380        40\n",
      "day3       390        45\n"
     ]
    }
   ],
   "source": [
    "import pandas as pd\n",
    "\n",
    "data = {\n",
    "  \"calories\": [420, 380, 390],\n",
    "  \"duration\": [50, 40, 45]\n",
    "}\n",
    "\n",
    "df = pd.DataFrame(data, index = [\"day1\", \"day2\", \"day3\"])\n",
    "\n",
    "print(df) "
   ]
  },
  {
   "cell_type": "markdown",
   "id": "476b61d0-4a7f-47f1-a474-73354b98fb7c",
   "metadata": {},
   "source": [
    "**Locate Named Indexes**: \n",
    "Use the named index in the loc attribute to return the specified row(s)."
   ]
  },
  {
   "cell_type": "code",
   "execution_count": 11,
   "id": "0ee4799e-89c8-4652-b830-54cd2e511c5b",
   "metadata": {
    "tags": []
   },
   "outputs": [
    {
     "name": "stdout",
     "output_type": "stream",
     "text": [
      "calories    380\n",
      "duration     40\n",
      "Name: day2, dtype: int64\n"
     ]
    }
   ],
   "source": [
    "#refer to the named index:\n",
    "print(df.loc[\"day2\"])"
   ]
  },
  {
   "cell_type": "markdown",
   "id": "375c629e-3e01-4425-9a22-52631f247a79",
   "metadata": {},
   "source": [
    "**Read CSV Files**: \n",
    "A simple way to store big data sets is to use CSV files (comma separated files).\n",
    "CSV files contains plain text and is a well know format that can be read by everyone including Pandas."
   ]
  },
  {
   "cell_type": "code",
   "execution_count": 14,
   "id": "e7046893-f370-4a2d-9d2a-7be71d5cfd4b",
   "metadata": {
    "tags": []
   },
   "outputs": [],
   "source": [
    "import pandas as pd\n",
    "\n",
    "df = pd.read_csv('data/gdp.csv')"
   ]
  },
  {
   "cell_type": "code",
   "execution_count": 16,
   "id": "db4ce2fd-7efa-4152-9452-0a780ee13a6f",
   "metadata": {
    "tags": []
   },
   "outputs": [
    {
     "data": {
      "text/html": [
       "<div>\n",
       "<style scoped>\n",
       "    .dataframe tbody tr th:only-of-type {\n",
       "        vertical-align: middle;\n",
       "    }\n",
       "\n",
       "    .dataframe tbody tr th {\n",
       "        vertical-align: top;\n",
       "    }\n",
       "\n",
       "    .dataframe thead th {\n",
       "        text-align: right;\n",
       "    }\n",
       "</style>\n",
       "<table border=\"1\" class=\"dataframe\">\n",
       "  <thead>\n",
       "    <tr style=\"text-align: right;\">\n",
       "      <th></th>\n",
       "      <th>Country Name</th>\n",
       "      <th>Country Code</th>\n",
       "      <th>1960</th>\n",
       "      <th>1961</th>\n",
       "      <th>1962</th>\n",
       "      <th>1963</th>\n",
       "      <th>1964</th>\n",
       "      <th>1965</th>\n",
       "      <th>1966</th>\n",
       "      <th>1967</th>\n",
       "      <th>...</th>\n",
       "      <th>2013</th>\n",
       "      <th>2014</th>\n",
       "      <th>2015</th>\n",
       "      <th>2016</th>\n",
       "      <th>2017</th>\n",
       "      <th>2018</th>\n",
       "      <th>2019</th>\n",
       "      <th>2020</th>\n",
       "      <th>2021</th>\n",
       "      <th>2022</th>\n",
       "    </tr>\n",
       "  </thead>\n",
       "  <tbody>\n",
       "    <tr>\n",
       "      <th>0</th>\n",
       "      <td>Aruba</td>\n",
       "      <td>ABW</td>\n",
       "      <td>NaN</td>\n",
       "      <td>NaN</td>\n",
       "      <td>NaN</td>\n",
       "      <td>NaN</td>\n",
       "      <td>NaN</td>\n",
       "      <td>NaN</td>\n",
       "      <td>NaN</td>\n",
       "      <td>NaN</td>\n",
       "      <td>...</td>\n",
       "      <td>2.727850e+09</td>\n",
       "      <td>2.790850e+09</td>\n",
       "      <td>2.962907e+09</td>\n",
       "      <td>2.983635e+09</td>\n",
       "      <td>3.092429e+09</td>\n",
       "      <td>3.276184e+09</td>\n",
       "      <td>3.395799e+09</td>\n",
       "      <td>2.558906e+09</td>\n",
       "      <td>3.103184e+09</td>\n",
       "      <td>3.544708e+09</td>\n",
       "    </tr>\n",
       "    <tr>\n",
       "      <th>1</th>\n",
       "      <td>Africa Eastern and Southern</td>\n",
       "      <td>AFE</td>\n",
       "      <td>1.847810e+10</td>\n",
       "      <td>1.936631e+10</td>\n",
       "      <td>2.050647e+10</td>\n",
       "      <td>2.224273e+10</td>\n",
       "      <td>2.429433e+10</td>\n",
       "      <td>2.661956e+10</td>\n",
       "      <td>2.873279e+10</td>\n",
       "      <td>3.159296e+10</td>\n",
       "      <td>...</td>\n",
       "      <td>9.863430e+11</td>\n",
       "      <td>1.006990e+12</td>\n",
       "      <td>9.325130e+11</td>\n",
       "      <td>8.900510e+11</td>\n",
       "      <td>1.028390e+12</td>\n",
       "      <td>1.012520e+12</td>\n",
       "      <td>1.006190e+12</td>\n",
       "      <td>9.288800e+11</td>\n",
       "      <td>1.086530e+12</td>\n",
       "      <td>1.185140e+12</td>\n",
       "    </tr>\n",
       "    <tr>\n",
       "      <th>2</th>\n",
       "      <td>Afghanistan</td>\n",
       "      <td>AFG</td>\n",
       "      <td>5.377778e+08</td>\n",
       "      <td>5.488889e+08</td>\n",
       "      <td>5.466667e+08</td>\n",
       "      <td>7.511112e+08</td>\n",
       "      <td>8.000000e+08</td>\n",
       "      <td>1.006667e+09</td>\n",
       "      <td>1.400000e+09</td>\n",
       "      <td>1.673333e+09</td>\n",
       "      <td>...</td>\n",
       "      <td>2.014642e+10</td>\n",
       "      <td>2.049713e+10</td>\n",
       "      <td>1.913422e+10</td>\n",
       "      <td>1.811657e+10</td>\n",
       "      <td>1.875346e+10</td>\n",
       "      <td>1.805322e+10</td>\n",
       "      <td>1.879944e+10</td>\n",
       "      <td>1.995593e+10</td>\n",
       "      <td>1.426650e+10</td>\n",
       "      <td>NaN</td>\n",
       "    </tr>\n",
       "    <tr>\n",
       "      <th>3</th>\n",
       "      <td>Africa Western and Central</td>\n",
       "      <td>AFW</td>\n",
       "      <td>1.041165e+10</td>\n",
       "      <td>1.113592e+10</td>\n",
       "      <td>1.195171e+10</td>\n",
       "      <td>1.268581e+10</td>\n",
       "      <td>1.384900e+10</td>\n",
       "      <td>1.487476e+10</td>\n",
       "      <td>1.584558e+10</td>\n",
       "      <td>1.442849e+10</td>\n",
       "      <td>...</td>\n",
       "      <td>8.340970e+11</td>\n",
       "      <td>8.945050e+11</td>\n",
       "      <td>7.692630e+11</td>\n",
       "      <td>6.921150e+11</td>\n",
       "      <td>6.856300e+11</td>\n",
       "      <td>7.681580e+11</td>\n",
       "      <td>8.234060e+11</td>\n",
       "      <td>7.869620e+11</td>\n",
       "      <td>8.449280e+11</td>\n",
       "      <td>8.753940e+11</td>\n",
       "    </tr>\n",
       "    <tr>\n",
       "      <th>4</th>\n",
       "      <td>Angola</td>\n",
       "      <td>AGO</td>\n",
       "      <td>NaN</td>\n",
       "      <td>NaN</td>\n",
       "      <td>NaN</td>\n",
       "      <td>NaN</td>\n",
       "      <td>NaN</td>\n",
       "      <td>NaN</td>\n",
       "      <td>NaN</td>\n",
       "      <td>NaN</td>\n",
       "      <td>...</td>\n",
       "      <td>1.323390e+11</td>\n",
       "      <td>1.359670e+11</td>\n",
       "      <td>9.049642e+10</td>\n",
       "      <td>5.276162e+10</td>\n",
       "      <td>7.369016e+10</td>\n",
       "      <td>7.945069e+10</td>\n",
       "      <td>7.089796e+10</td>\n",
       "      <td>4.850156e+10</td>\n",
       "      <td>6.650513e+10</td>\n",
       "      <td>1.067830e+11</td>\n",
       "    </tr>\n",
       "  </tbody>\n",
       "</table>\n",
       "<p>5 rows × 65 columns</p>\n",
       "</div>"
      ],
      "text/plain": [
       "                  Country Name Country Code          1960          1961  \\\n",
       "0                        Aruba          ABW           NaN           NaN   \n",
       "1  Africa Eastern and Southern          AFE  1.847810e+10  1.936631e+10   \n",
       "2                  Afghanistan          AFG  5.377778e+08  5.488889e+08   \n",
       "3   Africa Western and Central          AFW  1.041165e+10  1.113592e+10   \n",
       "4                       Angola          AGO           NaN           NaN   \n",
       "\n",
       "           1962          1963          1964          1965          1966  \\\n",
       "0           NaN           NaN           NaN           NaN           NaN   \n",
       "1  2.050647e+10  2.224273e+10  2.429433e+10  2.661956e+10  2.873279e+10   \n",
       "2  5.466667e+08  7.511112e+08  8.000000e+08  1.006667e+09  1.400000e+09   \n",
       "3  1.195171e+10  1.268581e+10  1.384900e+10  1.487476e+10  1.584558e+10   \n",
       "4           NaN           NaN           NaN           NaN           NaN   \n",
       "\n",
       "           1967  ...          2013          2014          2015          2016  \\\n",
       "0           NaN  ...  2.727850e+09  2.790850e+09  2.962907e+09  2.983635e+09   \n",
       "1  3.159296e+10  ...  9.863430e+11  1.006990e+12  9.325130e+11  8.900510e+11   \n",
       "2  1.673333e+09  ...  2.014642e+10  2.049713e+10  1.913422e+10  1.811657e+10   \n",
       "3  1.442849e+10  ...  8.340970e+11  8.945050e+11  7.692630e+11  6.921150e+11   \n",
       "4           NaN  ...  1.323390e+11  1.359670e+11  9.049642e+10  5.276162e+10   \n",
       "\n",
       "           2017          2018          2019          2020          2021  \\\n",
       "0  3.092429e+09  3.276184e+09  3.395799e+09  2.558906e+09  3.103184e+09   \n",
       "1  1.028390e+12  1.012520e+12  1.006190e+12  9.288800e+11  1.086530e+12   \n",
       "2  1.875346e+10  1.805322e+10  1.879944e+10  1.995593e+10  1.426650e+10   \n",
       "3  6.856300e+11  7.681580e+11  8.234060e+11  7.869620e+11  8.449280e+11   \n",
       "4  7.369016e+10  7.945069e+10  7.089796e+10  4.850156e+10  6.650513e+10   \n",
       "\n",
       "           2022  \n",
       "0  3.544708e+09  \n",
       "1  1.185140e+12  \n",
       "2           NaN  \n",
       "3  8.753940e+11  \n",
       "4  1.067830e+11  \n",
       "\n",
       "[5 rows x 65 columns]"
      ]
     },
     "execution_count": 16,
     "metadata": {},
     "output_type": "execute_result"
    }
   ],
   "source": [
    "df.head()  # first five rows"
   ]
  },
  {
   "cell_type": "code",
   "execution_count": 17,
   "id": "e4d0a8d9-349f-409d-8946-86bdda175d27",
   "metadata": {
    "tags": []
   },
   "outputs": [
    {
     "data": {
      "text/html": [
       "<div>\n",
       "<style scoped>\n",
       "    .dataframe tbody tr th:only-of-type {\n",
       "        vertical-align: middle;\n",
       "    }\n",
       "\n",
       "    .dataframe tbody tr th {\n",
       "        vertical-align: top;\n",
       "    }\n",
       "\n",
       "    .dataframe thead th {\n",
       "        text-align: right;\n",
       "    }\n",
       "</style>\n",
       "<table border=\"1\" class=\"dataframe\">\n",
       "  <thead>\n",
       "    <tr style=\"text-align: right;\">\n",
       "      <th></th>\n",
       "      <th>Country Name</th>\n",
       "      <th>Country Code</th>\n",
       "      <th>1960</th>\n",
       "      <th>1961</th>\n",
       "      <th>1962</th>\n",
       "      <th>1963</th>\n",
       "      <th>1964</th>\n",
       "      <th>1965</th>\n",
       "      <th>1966</th>\n",
       "      <th>1967</th>\n",
       "      <th>...</th>\n",
       "      <th>2013</th>\n",
       "      <th>2014</th>\n",
       "      <th>2015</th>\n",
       "      <th>2016</th>\n",
       "      <th>2017</th>\n",
       "      <th>2018</th>\n",
       "      <th>2019</th>\n",
       "      <th>2020</th>\n",
       "      <th>2021</th>\n",
       "      <th>2022</th>\n",
       "    </tr>\n",
       "  </thead>\n",
       "  <tbody>\n",
       "    <tr>\n",
       "      <th>261</th>\n",
       "      <td>Kosovo</td>\n",
       "      <td>XKX</td>\n",
       "      <td>NaN</td>\n",
       "      <td>NaN</td>\n",
       "      <td>NaN</td>\n",
       "      <td>NaN</td>\n",
       "      <td>NaN</td>\n",
       "      <td>NaN</td>\n",
       "      <td>NaN</td>\n",
       "      <td>NaN</td>\n",
       "      <td>...</td>\n",
       "      <td>6.735329e+09</td>\n",
       "      <td>7.074395e+09</td>\n",
       "      <td>6.295848e+09</td>\n",
       "      <td>6.682677e+09</td>\n",
       "      <td>7.180765e+09</td>\n",
       "      <td>7.878760e+09</td>\n",
       "      <td>7.899738e+09</td>\n",
       "      <td>7.717145e+09</td>\n",
       "      <td>9.412034e+09</td>\n",
       "      <td>9.409474e+09</td>\n",
       "    </tr>\n",
       "    <tr>\n",
       "      <th>262</th>\n",
       "      <td>Yemen, Rep.</td>\n",
       "      <td>YEM</td>\n",
       "      <td>NaN</td>\n",
       "      <td>NaN</td>\n",
       "      <td>NaN</td>\n",
       "      <td>NaN</td>\n",
       "      <td>NaN</td>\n",
       "      <td>NaN</td>\n",
       "      <td>NaN</td>\n",
       "      <td>NaN</td>\n",
       "      <td>...</td>\n",
       "      <td>4.041523e+10</td>\n",
       "      <td>4.322859e+10</td>\n",
       "      <td>4.244449e+10</td>\n",
       "      <td>3.131782e+10</td>\n",
       "      <td>2.684223e+10</td>\n",
       "      <td>2.160616e+10</td>\n",
       "      <td>NaN</td>\n",
       "      <td>NaN</td>\n",
       "      <td>NaN</td>\n",
       "      <td>NaN</td>\n",
       "    </tr>\n",
       "    <tr>\n",
       "      <th>263</th>\n",
       "      <td>South Africa</td>\n",
       "      <td>ZAF</td>\n",
       "      <td>8.748597e+09</td>\n",
       "      <td>9.225996e+09</td>\n",
       "      <td>9.813996e+09</td>\n",
       "      <td>1.085420e+10</td>\n",
       "      <td>1.195600e+10</td>\n",
       "      <td>1.306899e+10</td>\n",
       "      <td>1.421139e+10</td>\n",
       "      <td>1.582139e+10</td>\n",
       "      <td>...</td>\n",
       "      <td>4.008860e+11</td>\n",
       "      <td>3.811990e+11</td>\n",
       "      <td>3.467100e+11</td>\n",
       "      <td>3.235860e+11</td>\n",
       "      <td>3.814490e+11</td>\n",
       "      <td>4.052610e+11</td>\n",
       "      <td>3.893300e+11</td>\n",
       "      <td>3.382910e+11</td>\n",
       "      <td>4.201180e+11</td>\n",
       "      <td>4.052710e+11</td>\n",
       "    </tr>\n",
       "    <tr>\n",
       "      <th>264</th>\n",
       "      <td>Zambia</td>\n",
       "      <td>ZMB</td>\n",
       "      <td>7.130000e+08</td>\n",
       "      <td>6.962857e+08</td>\n",
       "      <td>6.931429e+08</td>\n",
       "      <td>7.187143e+08</td>\n",
       "      <td>8.394286e+08</td>\n",
       "      <td>1.082857e+09</td>\n",
       "      <td>1.264286e+09</td>\n",
       "      <td>1.368000e+09</td>\n",
       "      <td>...</td>\n",
       "      <td>2.803724e+10</td>\n",
       "      <td>2.714102e+10</td>\n",
       "      <td>2.125122e+10</td>\n",
       "      <td>2.095841e+10</td>\n",
       "      <td>2.587360e+10</td>\n",
       "      <td>2.631151e+10</td>\n",
       "      <td>2.330867e+10</td>\n",
       "      <td>1.811064e+10</td>\n",
       "      <td>2.209642e+10</td>\n",
       "      <td>2.916378e+10</td>\n",
       "    </tr>\n",
       "    <tr>\n",
       "      <th>265</th>\n",
       "      <td>Zimbabwe</td>\n",
       "      <td>ZWE</td>\n",
       "      <td>1.052990e+09</td>\n",
       "      <td>1.096647e+09</td>\n",
       "      <td>1.117602e+09</td>\n",
       "      <td>1.159512e+09</td>\n",
       "      <td>1.217138e+09</td>\n",
       "      <td>1.311436e+09</td>\n",
       "      <td>1.281750e+09</td>\n",
       "      <td>1.397002e+09</td>\n",
       "      <td>...</td>\n",
       "      <td>1.909102e+10</td>\n",
       "      <td>1.949552e+10</td>\n",
       "      <td>1.996312e+10</td>\n",
       "      <td>2.054868e+10</td>\n",
       "      <td>1.758489e+10</td>\n",
       "      <td>3.415607e+10</td>\n",
       "      <td>2.183223e+10</td>\n",
       "      <td>2.150970e+10</td>\n",
       "      <td>2.837124e+10</td>\n",
       "      <td>2.736663e+10</td>\n",
       "    </tr>\n",
       "  </tbody>\n",
       "</table>\n",
       "<p>5 rows × 65 columns</p>\n",
       "</div>"
      ],
      "text/plain": [
       "     Country Name Country Code          1960          1961          1962  \\\n",
       "261        Kosovo          XKX           NaN           NaN           NaN   \n",
       "262   Yemen, Rep.          YEM           NaN           NaN           NaN   \n",
       "263  South Africa          ZAF  8.748597e+09  9.225996e+09  9.813996e+09   \n",
       "264        Zambia          ZMB  7.130000e+08  6.962857e+08  6.931429e+08   \n",
       "265      Zimbabwe          ZWE  1.052990e+09  1.096647e+09  1.117602e+09   \n",
       "\n",
       "             1963          1964          1965          1966          1967  \\\n",
       "261           NaN           NaN           NaN           NaN           NaN   \n",
       "262           NaN           NaN           NaN           NaN           NaN   \n",
       "263  1.085420e+10  1.195600e+10  1.306899e+10  1.421139e+10  1.582139e+10   \n",
       "264  7.187143e+08  8.394286e+08  1.082857e+09  1.264286e+09  1.368000e+09   \n",
       "265  1.159512e+09  1.217138e+09  1.311436e+09  1.281750e+09  1.397002e+09   \n",
       "\n",
       "     ...          2013          2014          2015          2016  \\\n",
       "261  ...  6.735329e+09  7.074395e+09  6.295848e+09  6.682677e+09   \n",
       "262  ...  4.041523e+10  4.322859e+10  4.244449e+10  3.131782e+10   \n",
       "263  ...  4.008860e+11  3.811990e+11  3.467100e+11  3.235860e+11   \n",
       "264  ...  2.803724e+10  2.714102e+10  2.125122e+10  2.095841e+10   \n",
       "265  ...  1.909102e+10  1.949552e+10  1.996312e+10  2.054868e+10   \n",
       "\n",
       "             2017          2018          2019          2020          2021  \\\n",
       "261  7.180765e+09  7.878760e+09  7.899738e+09  7.717145e+09  9.412034e+09   \n",
       "262  2.684223e+10  2.160616e+10           NaN           NaN           NaN   \n",
       "263  3.814490e+11  4.052610e+11  3.893300e+11  3.382910e+11  4.201180e+11   \n",
       "264  2.587360e+10  2.631151e+10  2.330867e+10  1.811064e+10  2.209642e+10   \n",
       "265  1.758489e+10  3.415607e+10  2.183223e+10  2.150970e+10  2.837124e+10   \n",
       "\n",
       "             2022  \n",
       "261  9.409474e+09  \n",
       "262           NaN  \n",
       "263  4.052710e+11  \n",
       "264  2.916378e+10  \n",
       "265  2.736663e+10  \n",
       "\n",
       "[5 rows x 65 columns]"
      ]
     },
     "execution_count": 17,
     "metadata": {},
     "output_type": "execute_result"
    }
   ],
   "source": [
    "df.tail() # last five rows"
   ]
  },
  {
   "cell_type": "code",
   "execution_count": 18,
   "id": "a2b2f56e-4bd4-4681-bfb1-c3eb4ef9a7f3",
   "metadata": {
    "tags": []
   },
   "outputs": [
    {
     "data": {
      "text/html": [
       "<div>\n",
       "<style scoped>\n",
       "    .dataframe tbody tr th:only-of-type {\n",
       "        vertical-align: middle;\n",
       "    }\n",
       "\n",
       "    .dataframe tbody tr th {\n",
       "        vertical-align: top;\n",
       "    }\n",
       "\n",
       "    .dataframe thead th {\n",
       "        text-align: right;\n",
       "    }\n",
       "</style>\n",
       "<table border=\"1\" class=\"dataframe\">\n",
       "  <thead>\n",
       "    <tr style=\"text-align: right;\">\n",
       "      <th></th>\n",
       "      <th>Country Name</th>\n",
       "      <th>Country Code</th>\n",
       "      <th>1960</th>\n",
       "      <th>1961</th>\n",
       "      <th>1962</th>\n",
       "      <th>1963</th>\n",
       "      <th>1964</th>\n",
       "      <th>1965</th>\n",
       "      <th>1966</th>\n",
       "      <th>1967</th>\n",
       "      <th>...</th>\n",
       "      <th>2013</th>\n",
       "      <th>2014</th>\n",
       "      <th>2015</th>\n",
       "      <th>2016</th>\n",
       "      <th>2017</th>\n",
       "      <th>2018</th>\n",
       "      <th>2019</th>\n",
       "      <th>2020</th>\n",
       "      <th>2021</th>\n",
       "      <th>2022</th>\n",
       "    </tr>\n",
       "  </thead>\n",
       "  <tbody>\n",
       "    <tr>\n",
       "      <th>233</th>\n",
       "      <td>Thailand</td>\n",
       "      <td>THA</td>\n",
       "      <td>2.760751e+09</td>\n",
       "      <td>3.034038e+09</td>\n",
       "      <td>3.308913e+09</td>\n",
       "      <td>3.540403e+09</td>\n",
       "      <td>3.889130e+09</td>\n",
       "      <td>4.388938e+09</td>\n",
       "      <td>5.279231e+09</td>\n",
       "      <td>5.638461e+09</td>\n",
       "      <td>...</td>\n",
       "      <td>4.203340e+11</td>\n",
       "      <td>4.073390e+11</td>\n",
       "      <td>4.012960e+11</td>\n",
       "      <td>4.133660e+11</td>\n",
       "      <td>4.563570e+11</td>\n",
       "      <td>5.067540e+11</td>\n",
       "      <td>5.439770e+11</td>\n",
       "      <td>5.004570e+11</td>\n",
       "      <td>5.055680e+11</td>\n",
       "      <td>4.954230e+11</td>\n",
       "    </tr>\n",
       "    <tr>\n",
       "      <th>211</th>\n",
       "      <td>El Salvador</td>\n",
       "      <td>SLV</td>\n",
       "      <td>NaN</td>\n",
       "      <td>NaN</td>\n",
       "      <td>NaN</td>\n",
       "      <td>NaN</td>\n",
       "      <td>NaN</td>\n",
       "      <td>8.777200e+08</td>\n",
       "      <td>9.295200e+08</td>\n",
       "      <td>9.762000e+08</td>\n",
       "      <td>...</td>\n",
       "      <td>2.199096e+10</td>\n",
       "      <td>2.259347e+10</td>\n",
       "      <td>2.343824e+10</td>\n",
       "      <td>2.419143e+10</td>\n",
       "      <td>2.497919e+10</td>\n",
       "      <td>2.602085e+10</td>\n",
       "      <td>2.688114e+10</td>\n",
       "      <td>2.493008e+10</td>\n",
       "      <td>2.945124e+10</td>\n",
       "      <td>3.248872e+10</td>\n",
       "    </tr>\n",
       "    <tr>\n",
       "      <th>251</th>\n",
       "      <td>United States</td>\n",
       "      <td>USA</td>\n",
       "      <td>5.433000e+11</td>\n",
       "      <td>5.633000e+11</td>\n",
       "      <td>6.051000e+11</td>\n",
       "      <td>6.386000e+11</td>\n",
       "      <td>6.858000e+11</td>\n",
       "      <td>7.437000e+11</td>\n",
       "      <td>8.150000e+11</td>\n",
       "      <td>8.617000e+11</td>\n",
       "      <td>...</td>\n",
       "      <td>1.684320e+13</td>\n",
       "      <td>1.755070e+13</td>\n",
       "      <td>1.820600e+13</td>\n",
       "      <td>1.869510e+13</td>\n",
       "      <td>1.947730e+13</td>\n",
       "      <td>2.053310e+13</td>\n",
       "      <td>2.138100e+13</td>\n",
       "      <td>2.106050e+13</td>\n",
       "      <td>2.331510e+13</td>\n",
       "      <td>2.543970e+13</td>\n",
       "    </tr>\n",
       "    <tr>\n",
       "      <th>15</th>\n",
       "      <td>Azerbaijan</td>\n",
       "      <td>AZE</td>\n",
       "      <td>NaN</td>\n",
       "      <td>NaN</td>\n",
       "      <td>NaN</td>\n",
       "      <td>NaN</td>\n",
       "      <td>NaN</td>\n",
       "      <td>NaN</td>\n",
       "      <td>NaN</td>\n",
       "      <td>NaN</td>\n",
       "      <td>...</td>\n",
       "      <td>7.416056e+10</td>\n",
       "      <td>7.523979e+10</td>\n",
       "      <td>5.307624e+10</td>\n",
       "      <td>3.786700e+10</td>\n",
       "      <td>4.086663e+10</td>\n",
       "      <td>4.711247e+10</td>\n",
       "      <td>4.817424e+10</td>\n",
       "      <td>4.269300e+10</td>\n",
       "      <td>5.482541e+10</td>\n",
       "      <td>7.872106e+10</td>\n",
       "    </tr>\n",
       "    <tr>\n",
       "      <th>134</th>\n",
       "      <td>Latin America &amp; Caribbean</td>\n",
       "      <td>LCN</td>\n",
       "      <td>NaN</td>\n",
       "      <td>NaN</td>\n",
       "      <td>NaN</td>\n",
       "      <td>NaN</td>\n",
       "      <td>NaN</td>\n",
       "      <td>NaN</td>\n",
       "      <td>NaN</td>\n",
       "      <td>NaN</td>\n",
       "      <td>...</td>\n",
       "      <td>6.360880e+12</td>\n",
       "      <td>6.482210e+12</td>\n",
       "      <td>5.420470e+12</td>\n",
       "      <td>5.285690e+12</td>\n",
       "      <td>5.866300e+12</td>\n",
       "      <td>5.742580e+12</td>\n",
       "      <td>5.660900e+12</td>\n",
       "      <td>4.809520e+12</td>\n",
       "      <td>5.553340e+12</td>\n",
       "      <td>6.302490e+12</td>\n",
       "    </tr>\n",
       "    <tr>\n",
       "      <th>244</th>\n",
       "      <td>Turkiye</td>\n",
       "      <td>TUR</td>\n",
       "      <td>7.566667e+09</td>\n",
       "      <td>7.988889e+09</td>\n",
       "      <td>8.922222e+09</td>\n",
       "      <td>1.035556e+10</td>\n",
       "      <td>1.117778e+10</td>\n",
       "      <td>1.196667e+10</td>\n",
       "      <td>1.410000e+10</td>\n",
       "      <td>1.564444e+10</td>\n",
       "      <td>...</td>\n",
       "      <td>9.577990e+11</td>\n",
       "      <td>9.389350e+11</td>\n",
       "      <td>8.643140e+11</td>\n",
       "      <td>8.696830e+11</td>\n",
       "      <td>8.589880e+11</td>\n",
       "      <td>7.789720e+11</td>\n",
       "      <td>7.610060e+11</td>\n",
       "      <td>7.203380e+11</td>\n",
       "      <td>8.198650e+11</td>\n",
       "      <td>9.071180e+11</td>\n",
       "    </tr>\n",
       "  </tbody>\n",
       "</table>\n",
       "<p>6 rows × 65 columns</p>\n",
       "</div>"
      ],
      "text/plain": [
       "                  Country Name Country Code          1960          1961  \\\n",
       "233                   Thailand          THA  2.760751e+09  3.034038e+09   \n",
       "211                El Salvador          SLV           NaN           NaN   \n",
       "251              United States          USA  5.433000e+11  5.633000e+11   \n",
       "15                  Azerbaijan          AZE           NaN           NaN   \n",
       "134  Latin America & Caribbean          LCN           NaN           NaN   \n",
       "244                    Turkiye          TUR  7.566667e+09  7.988889e+09   \n",
       "\n",
       "             1962          1963          1964          1965          1966  \\\n",
       "233  3.308913e+09  3.540403e+09  3.889130e+09  4.388938e+09  5.279231e+09   \n",
       "211           NaN           NaN           NaN  8.777200e+08  9.295200e+08   \n",
       "251  6.051000e+11  6.386000e+11  6.858000e+11  7.437000e+11  8.150000e+11   \n",
       "15            NaN           NaN           NaN           NaN           NaN   \n",
       "134           NaN           NaN           NaN           NaN           NaN   \n",
       "244  8.922222e+09  1.035556e+10  1.117778e+10  1.196667e+10  1.410000e+10   \n",
       "\n",
       "             1967  ...          2013          2014          2015  \\\n",
       "233  5.638461e+09  ...  4.203340e+11  4.073390e+11  4.012960e+11   \n",
       "211  9.762000e+08  ...  2.199096e+10  2.259347e+10  2.343824e+10   \n",
       "251  8.617000e+11  ...  1.684320e+13  1.755070e+13  1.820600e+13   \n",
       "15            NaN  ...  7.416056e+10  7.523979e+10  5.307624e+10   \n",
       "134           NaN  ...  6.360880e+12  6.482210e+12  5.420470e+12   \n",
       "244  1.564444e+10  ...  9.577990e+11  9.389350e+11  8.643140e+11   \n",
       "\n",
       "             2016          2017          2018          2019          2020  \\\n",
       "233  4.133660e+11  4.563570e+11  5.067540e+11  5.439770e+11  5.004570e+11   \n",
       "211  2.419143e+10  2.497919e+10  2.602085e+10  2.688114e+10  2.493008e+10   \n",
       "251  1.869510e+13  1.947730e+13  2.053310e+13  2.138100e+13  2.106050e+13   \n",
       "15   3.786700e+10  4.086663e+10  4.711247e+10  4.817424e+10  4.269300e+10   \n",
       "134  5.285690e+12  5.866300e+12  5.742580e+12  5.660900e+12  4.809520e+12   \n",
       "244  8.696830e+11  8.589880e+11  7.789720e+11  7.610060e+11  7.203380e+11   \n",
       "\n",
       "             2021          2022  \n",
       "233  5.055680e+11  4.954230e+11  \n",
       "211  2.945124e+10  3.248872e+10  \n",
       "251  2.331510e+13  2.543970e+13  \n",
       "15   5.482541e+10  7.872106e+10  \n",
       "134  5.553340e+12  6.302490e+12  \n",
       "244  8.198650e+11  9.071180e+11  \n",
       "\n",
       "[6 rows x 65 columns]"
      ]
     },
     "execution_count": 18,
     "metadata": {},
     "output_type": "execute_result"
    }
   ],
   "source": [
    "df.sample(6) # random n=6 number of rows"
   ]
  },
  {
   "cell_type": "code",
   "execution_count": 19,
   "id": "3b666154-9c59-41f7-81e4-e21ed9917a1f",
   "metadata": {
    "tags": []
   },
   "outputs": [
    {
     "data": {
      "text/plain": [
       "(266, 65)"
      ]
     },
     "execution_count": 19,
     "metadata": {},
     "output_type": "execute_result"
    }
   ],
   "source": [
    "df.shape # sample data's rows and columns (dimensions)"
   ]
  },
  {
   "cell_type": "code",
   "execution_count": null,
   "id": "2dafb373-0fb1-4472-b116-14a9495b6fb8",
   "metadata": {},
   "outputs": [],
   "source": []
  }
 ],
 "metadata": {
  "kernelspec": {
   "display_name": "Python 3 (ipykernel)",
   "language": "python",
   "name": "python3"
  },
  "language_info": {
   "codemirror_mode": {
    "name": "ipython",
    "version": 3
   },
   "file_extension": ".py",
   "mimetype": "text/x-python",
   "name": "python",
   "nbconvert_exporter": "python",
   "pygments_lexer": "ipython3",
   "version": "3.11.5"
  }
 },
 "nbformat": 4,
 "nbformat_minor": 5
}
