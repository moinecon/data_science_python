{
 "cells": [
  {
   "cell_type": "markdown",
   "id": "90bb2d47-2d9b-4a21-935c-3c5fc44a13ea",
   "metadata": {},
   "source": [
    "# Pandas"
   ]
  },
  {
   "cell_type": "markdown",
   "id": "2b6f9825-a9bb-4b91-9518-d1b1f39883f7",
   "metadata": {},
   "source": [
    "## Pandas basics\n",
    "Pandas is a Python library used for working with data sets. It has functions for analyzing, cleaning, exploring, and manipulating data. The name \"Pandas\" has a reference to both \"Panel Data\", and \"Python Data Analysis\" and was created by Wes McKinney in 2008.\n",
    "\n",
    "Pandas allows us to analyze big data and make conclusions based on statistical theories. Pandas can clean messy data sets, and make them readable and relevant. Relevant data is very important in data science."
   ]
  },
  {
   "cell_type": "markdown",
   "id": "fa12421c-55ac-4b3c-bcbd-1d5f668338bc",
   "metadata": {},
   "source": [
    "Create an alias with the `as` keyword while importing:"
   ]
  },
  {
   "cell_type": "code",
   "execution_count": 2,
   "id": "7fb74419-19f5-4018-bcb3-93e2b4487d95",
   "metadata": {
    "tags": []
   },
   "outputs": [],
   "source": [
    "# import pandas\n",
    "import pandas as pd"
   ]
  },
  {
   "cell_type": "markdown",
   "id": "d77da3f4-989d-4d85-a3d4-42d8ba24fa48",
   "metadata": {},
   "source": [
    "Now the Pandas package can be referred to as `pd` instead of `pandas`."
   ]
  },
  {
   "cell_type": "code",
   "execution_count": null,
   "id": "7ff51614-5c70-46cc-a129-3d18cc879816",
   "metadata": {},
   "outputs": [],
   "source": []
  }
 ],
 "metadata": {
  "kernelspec": {
   "display_name": "Python 3 (ipykernel)",
   "language": "python",
   "name": "python3"
  },
  "language_info": {
   "codemirror_mode": {
    "name": "ipython",
    "version": 3
   },
   "file_extension": ".py",
   "mimetype": "text/x-python",
   "name": "python",
   "nbconvert_exporter": "python",
   "pygments_lexer": "ipython3",
   "version": "3.11.5"
  }
 },
 "nbformat": 4,
 "nbformat_minor": 5
}
