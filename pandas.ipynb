{
 "cells": [
  {
   "cell_type": "markdown",
   "id": "90bb2d47-2d9b-4a21-935c-3c5fc44a13ea",
   "metadata": {},
   "source": [
    "# Pandas"
   ]
  },
  {
   "cell_type": "markdown",
   "id": "2b6f9825-a9bb-4b91-9518-d1b1f39883f7",
   "metadata": {},
   "source": [
    "## Pandas basics\n",
    "Pandas is a Python library used for working with data sets. It has functions for analyzing, cleaning, exploring, and manipulating data. The name \"Pandas\" has a reference to both \"Panel Data\", and \"Python Data Analysis\" and was created by Wes McKinney in 2008.\n",
    "\n",
    "Pandas allows us to analyze big data and make conclusions based on statistical theories. Pandas can clean messy data sets, and make them readable and relevant. Relevant data is very important in data science."
   ]
  },
  {
   "cell_type": "markdown",
   "id": "fa12421c-55ac-4b3c-bcbd-1d5f668338bc",
   "metadata": {},
   "source": [
    "Create an alias with the `as` keyword while importing:"
   ]
  },
  {
   "cell_type": "code",
   "execution_count": 1,
   "id": "7fb74419-19f5-4018-bcb3-93e2b4487d95",
   "metadata": {
    "tags": []
   },
   "outputs": [],
   "source": [
    "# import pandas\n",
    "import pandas as pd\n",
    "# import numpy\n",
    "import numpy as np"
   ]
  },
  {
   "cell_type": "markdown",
   "id": "d77da3f4-989d-4d85-a3d4-42d8ba24fa48",
   "metadata": {},
   "source": [
    "Now the Pandas package can be referred to as `pd` instead of `pandas`."
   ]
  },
  {
   "cell_type": "markdown",
   "id": "a7d6fe10-d91a-40ba-9e5b-616698e319ec",
   "metadata": {},
   "source": [
    "## Series"
   ]
  },
  {
   "cell_type": "code",
   "execution_count": 5,
   "id": "4547969f-4d4f-424b-966f-8599181f817e",
   "metadata": {
    "tags": []
   },
   "outputs": [],
   "source": [
    "name = ['Andy', 'Ron', 'James', 'Edy']\n",
    "myseries1 = pd.Series(name)"
   ]
  },
  {
   "cell_type": "code",
   "execution_count": 6,
   "id": "0656e55a-06a7-417e-8214-6c608c0de7ce",
   "metadata": {
    "tags": []
   },
   "outputs": [
    {
     "name": "stdout",
     "output_type": "stream",
     "text": [
      "0     Andy\n",
      "1      Ron\n",
      "2    James\n",
      "3      Edy\n",
      "dtype: object\n"
     ]
    }
   ],
   "source": [
    "print(myseries1)"
   ]
  },
  {
   "cell_type": "code",
   "execution_count": 7,
   "id": "41bdd2d7-6f65-4768-8b81-bcb12c079e1e",
   "metadata": {
    "tags": []
   },
   "outputs": [],
   "source": [
    "age = [21, 35, 54, 33]\n",
    "myseries2 = pd.Series(age)"
   ]
  },
  {
   "cell_type": "code",
   "execution_count": 8,
   "id": "7a876946-cc65-42b0-a681-a880fce9ffd0",
   "metadata": {
    "tags": []
   },
   "outputs": [
    {
     "name": "stdout",
     "output_type": "stream",
     "text": [
      "0    21\n",
      "1    35\n",
      "2    54\n",
      "3    33\n",
      "dtype: int64\n"
     ]
    }
   ],
   "source": [
    "print(myseries2)"
   ]
  },
  {
   "cell_type": "code",
   "execution_count": null,
   "id": "a8fd382d-eb60-479b-8085-b4919a3a7899",
   "metadata": {},
   "outputs": [],
   "source": []
  },
  {
   "cell_type": "code",
   "execution_count": null,
   "id": "23f0d485-eda6-4da3-a189-0bf3559b425a",
   "metadata": {},
   "outputs": [],
   "source": []
  },
  {
   "cell_type": "markdown",
   "id": "b38efa69-2f43-45c8-b031-872f225143d9",
   "metadata": {},
   "source": [
    "### DataFrame\n",
    "A Pandas DataFrame is a 2 dimensional data structure, like a 2 dimensional array, or a table with rows and columns."
   ]
  },
  {
   "cell_type": "markdown",
   "id": "cf076dbe-f735-4e0f-b7c4-866d44847127",
   "metadata": {},
   "source": [
    "Create simple DataFrame"
   ]
  },
  {
   "cell_type": "code",
   "execution_count": 3,
   "id": "28a8a302-0699-4a4e-9b82-5355b10911b2",
   "metadata": {
    "tags": []
   },
   "outputs": [
    {
     "name": "stdout",
     "output_type": "stream",
     "text": [
      "   calories  duration\n",
      "0       420        50\n",
      "1       380        40\n",
      "2       390        45\n"
     ]
    }
   ],
   "source": [
    "data = {\n",
    "  \"calories\": [420, 380, 390],\n",
    "  \"duration\": [50, 40, 45]\n",
    "}\n",
    "\n",
    "#load data into a DataFrame object:\n",
    "df = pd.DataFrame(data)\n",
    "\n",
    "print(df)"
   ]
  },
  {
   "cell_type": "code",
   "execution_count": null,
   "id": "b1313e06-b8b8-4fc3-b50d-4cc43bf79f24",
   "metadata": {},
   "outputs": [],
   "source": []
  }
 ],
 "metadata": {
  "kernelspec": {
   "display_name": "Python 3 (ipykernel)",
   "language": "python",
   "name": "python3"
  },
  "language_info": {
   "codemirror_mode": {
    "name": "ipython",
    "version": 3
   },
   "file_extension": ".py",
   "mimetype": "text/x-python",
   "name": "python",
   "nbconvert_exporter": "python",
   "pygments_lexer": "ipython3",
   "version": "3.11.5"
  }
 },
 "nbformat": 4,
 "nbformat_minor": 5
}
